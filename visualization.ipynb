{
 "cells": [
  {
   "cell_type": "code",
   "execution_count": null,
   "metadata": {
    "collapsed": true
   },
   "outputs": [],
   "source": [
    "import matplotlib.pyplot as plt\n",
    "% matplotlib inline\n",
    "plt.style.use('ggplot')\n",
    "from plots import plot_MDP, plot_ELBO_n_bound_progression, get_ELBO_bound_correlation, introspect_generalization, generalization_risk_check\n",
    "import _pickle as pickle\n",
    "from Housekeeping import *"
   ]
  },
  {
   "cell_type": "code",
   "execution_count": null,
   "metadata": {
    "collapsed": true
   },
   "outputs": [],
   "source": [
    "import seaborn as sns"
   ]
  },
  {
   "cell_type": "code",
   "execution_count": null,
   "metadata": {
    "scrolled": true
   },
   "outputs": [],
   "source": [
    "generalization_risk_check(experiments=['Swimmer', 'HalfCheetah', 'Ant', 'Humanoid', 'Hopper', 'Walker2d'], controller_type='probabilistic', emphasis_codes=[0, 6, 12], MC=10, PB_N=10, ss=3)"
   ]
  },
  {
   "cell_type": "code",
   "execution_count": null,
   "metadata": {
    "scrolled": true
   },
   "outputs": [],
   "source": [
    "introspect_generalization(experiment='Swimmer', controller_type='probabilistic', emphasis_codes=[0, 6, 12], MC=10, PB_N=10, ss=3)"
   ]
  },
  {
   "cell_type": "code",
   "execution_count": null,
   "metadata": {
    "scrolled": true
   },
   "outputs": [],
   "source": [
    "introspect_generalization(experiment='HalfCheetah', controller_type='probabilistic', emphasis_codes=[0, 6, 12], MC=10, PB_N=10, ss=3)"
   ]
  },
  {
   "cell_type": "code",
   "execution_count": null,
   "metadata": {
    "scrolled": true
   },
   "outputs": [],
   "source": [
    "get_ELBO_bound_correlation(experiments=['Swimmer', 'HalfCheetah', 'Ant', 'Humanoid', 'Hopper', 'Walker2d'], controller_type='probabilistic', emphasis_codes=[0, 6, 12], MC=10, PB_N=10, ss=3)"
   ]
  },
  {
   "cell_type": "code",
   "execution_count": null,
   "metadata": {
    "scrolled": true
   },
   "outputs": [],
   "source": [
    "#top_lim = 800000\n",
    "plt.rcParams[\"figure.figsize\"] = (6,5)\n",
    "plt.rc('xtick', labelsize=16)\n",
    "plt.rc('ytick', labelsize=16)\n",
    "plt.rc('axes', labelsize=18)\n",
    "\n",
    "plot_ELBO_n_bound_progression(experiment='Ant', controller_type='probabilistic', extra_likelihood_emphasis_code=12, MC=10, PB_N=10, ss=3)"
   ]
  },
  {
   "cell_type": "code",
   "execution_count": null,
   "metadata": {
    "scrolled": true
   },
   "outputs": [],
   "source": [
    "#top_lim = 800000\n",
    "plt.rcParams[\"figure.figsize\"] = (6,5)\n",
    "plt.rc('xtick', labelsize=16)\n",
    "plt.rc('ytick', labelsize=16)\n",
    "plt.rc('axes', labelsize=18)\n",
    "\n",
    "plot_ELBO_n_bound_progression(experiment='Humanoid', controller_type='probabilistic', extra_likelihood_emphasis_code=12, MC=10, PB_N=10, ss=3)"
   ]
  },
  {
   "cell_type": "code",
   "execution_count": null,
   "metadata": {
    "scrolled": true
   },
   "outputs": [],
   "source": [
    "#top_lim = 800000\n",
    "plt.rcParams[\"figure.figsize\"] = (6,5)\n",
    "plt.rc('xtick', labelsize=16)\n",
    "plt.rc('ytick', labelsize=16)\n",
    "plt.rc('axes', labelsize=18)\n",
    "\n",
    "plot_ELBO_n_bound_progression(experiment='Walker2d', controller_type='probabilistic', extra_likelihood_emphasis_code=12, MC=10, PB_N=10, ss=3)"
   ]
  },
  {
   "cell_type": "code",
   "execution_count": null,
   "metadata": {
    "collapsed": true
   },
   "outputs": [],
   "source": []
  }
 ],
 "metadata": {
  "kernelspec": {
   "display_name": "Python 3",
   "language": "python",
   "name": "python3"
  },
  "language_info": {
   "codemirror_mode": {
    "name": "ipython",
    "version": 3
   },
   "file_extension": ".py",
   "mimetype": "text/x-python",
   "name": "python",
   "nbconvert_exporter": "python",
   "pygments_lexer": "ipython3",
   "version": "3.6.2"
  }
 },
 "nbformat": 4,
 "nbformat_minor": 2
}
